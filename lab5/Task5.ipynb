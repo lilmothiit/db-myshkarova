{
 "cells": [
  {
   "cell_type": "markdown",
   "metadata": {
    "colab_type": "text",
    "id": "9RHioPUvpaX3"
   },
   "source": [
    "# **КРИТЕРІЙ ПІРСОНА ДЛЯ ПОРІВНЯННЯ ДЕКІЛЬКОЇ ГРУП ЗА РОЗПОДІЛЕННЯМ ОЗНАКИ**"
   ]
  },
  {
   "cell_type": "markdown",
   "metadata": {
    "colab_type": "text",
    "id": "gJvivgECtRy7"
   },
   "source": [
    "## *Теоретичні відомості*"
   ]
  },
  {
   "cell_type": "markdown",
   "metadata": {
    "colab_type": "text",
    "id": "l_CIvVzgqAA1"
   },
   "source": [
    "Критерій хі-квадрат для аналізу таблиць спряженості був розроблений і запропонований в 1900 році англійським математиком, статистиком, біологом і філософом, засновником математичної статистики і одним з основоположників біометрії Карлом Пірсоном (1857-1936).\n",
    "\n",
    "*Таблиці спряженості* - це візуальне (табличне) відображення залежності між двома __*якісними*__ ознаками. \n",
    "Інтрерпретувати цей зв'язок можна як взаємозвя'зок між розподілом за однією ознакою в залежності від градації іншої ознаки. Прикладом може бути залежність частоти летальності в групах, що приймали різні лікувальні препарати (залежність летальності від схеми лікування), або залежність кількості осіб, що займаються різними видами спорту та частоти травматичних випадків (оцінка травматичності зайнять різними видами спорту).\n",
    "\n",
    "Рядки таблиці спряженості відповідають значенням однієї змінної, стовпці - значенням іншої змінної. *Для побудови таблиць спряженості кількісні шкали попередньо повинні бути згруповані в інтервали.* Область визначення випадковоъ величини розбивають на $k$ інтервалів, що не перетинаються:\n",
    "\n",
    "$$x_{0}<x_{1}<...<x_{k-1}<x_{k},$$\n",
    "\n",
    "де $x_{0}$ - нижня границя області визначення випадкової величини, $x_{k}$ - верхня границя.\n",
    "\n",
    "На перетині рядка і стовпця вказується частота спільної появи відповідних значень двох ознак.\n",
    "Сума частот по рядку називається маргінальною частотою рядка; сума частот по стовпцю - маргінальною частотою стовпчика.\n",
    "У таблиці спряженості можуть бути представлені як абсолютні, так і відносні частоти (в частках або відсотках). Відносні частоти можуть розраховуватися по відношенню:\n",
    "а) до маргінальної частоти по рядку;\n",
    "б) до маргінальної частоти по стовпцю;\n",
    "в) до обсягу вибірки."
   ]
  },
  {
   "cell_type": "markdown",
   "metadata": {
    "colab_type": "text",
    "id": "EVMo4PIltX48"
   },
   "source": [
    "Статистична гіпотеза для даного критерію має наступний вигляд:\n",
    "*   Основна (нульова). Ознаки не пов'язані.\n",
    "*   Конкуруюча (альтернативна). Ознаки пов'язані."
   ]
  },
  {
   "cell_type": "markdown",
   "metadata": {
    "colab_type": "text",
    "id": "LSU7rmy8yIAB"
   },
   "source": [
    "## Алгоритм розрахунку"
   ]
  },
  {
   "cell_type": "markdown",
   "metadata": {
    "colab_type": "text",
    "id": "V-cBzKp5tkos"
   },
   "source": [
    "В класичному випадку, критерій Пірсона поріявнює розподіл ознаки між двома групами. Алгоритм роботи:\n",
    "\n",
    "\n",
    "*   *Сформувати таблицю спряженості*, де стовбчики - це порювнювані групи, а рядки - градації ознаки, що досліджується.\n",
    "\n",
    "Ознака  | Група 1 | Група 2  |\n",
    "------------- | ------------- |--------- |\n",
    "Градація ознаки 1  | $n_{11}$   | $n_{21}$   |\n",
    "Градація ознаки 2  | $n_{12}$   | $n_{22}$   |\n",
    "Градація ознаки 3  | $n_{13}$   | $n_{23}$   |\n",
    "\n",
    "  $n_{11}$ - частота з якою градація 1 зустрічається в 1й групі\n",
    "\n",
    "$n_{12}$ - частота з якоюградація 2 зустрічається в 1й групі\n",
    "\n",
    "$n_{13}$ - частота з якоюградація 3 зустрічається в 1й групі\n",
    "\n",
    "$n_{21}$ - частота з якоюградація 1 зустрічається в 2й групі\n",
    "\n",
    "$n_{22}$ - частота з якоюградація 2 зустрічається в 2й групі\n",
    "\n",
    "$n_{23}$ - частота з якоюградація 3 зустрічається в 2й групі\n",
    "\n",
    "Вважаємо, що перша група експериментальна, а друга - теоретична.\n",
    "\n",
    "*   Перевірити рівність сум частот $\\sum n_{i}=\\sum \\grave{n}_{i}$. Якщо суми відрізняються, вирівняти їх зі збереженням відсоткового співвідношення між частотами всередині групи.\n",
    "\n",
    "* Розрахувати різницю між експериметальними (емпричними) та контрольним (теоретичними) частотами для кожної градації:\n",
    "\n",
    "Ознака  | Група 1 | Група 2  | $(n_{i}-\\grave{n}_{i})^2$  |\n",
    "------------- | ------------- |--------- |-------------- |\n",
    "Градація ознаки 1  | $n_{11}$   | $n_{21}$   |$(n_{11}-\\grave{n}_{21})^2$  |\n",
    "Градація ознаки 2  | $n_{12}$   | $n_{22}$   |$(n_{12}-\\grave{n}_{22})^2$  |\n",
    "Градація ознаки 3  | $n_{13}$   | $n_{23}$   |$(n_{13}-\\grave{n}_{23})^2$  |\n",
    "\n",
    "* Розділити отримані квадрати на теоретичні частити (дані контрольної групи):\n",
    "\n",
    "Ознака  | Група 1 | Група 2  | $(n_{i}-\\grave{n}_{i})^2$  | $\\frac{(n_{i}-\\grave{n}_{i})^2}{\\grave{n}_{i}}$  |\n",
    "------------- | ------------- |--------- |-------------- |-------------- |\n",
    "Градація ознаки 1  | $n_{11}$   | $n_{21}$   |$(n_{11}-\\grave{n}_{21})^2$  |$\\frac{(n_{11}-\\grave{n}_{21})^2}{\\grave{n}_{21}}$  |\n",
    "Градація ознаки 2  | $n_{12}$   | $n_{22}$   |$(n_{12}-\\grave{n}_{22})^2$  |$\\frac{(n_{12}-\\grave{n}_{22})^2}{\\grave{n}_{22}}$  |\n",
    "Градація ознаки 3  | $n_{13}$   | $n_{23}$   |$(n_{13}-\\grave{n}_{23})^2$  |$\\frac{(n_{13}-\\grave{n}_{23})^2}{\\grave{n}_{23}}^2$  |\n",
    "\n",
    "\n",
    "* Знайти сумму отриманих значень, позначивши її як $\\chi_{emp}^2$.\n",
    "\n",
    "* Визначити ступінь свободи критерію:\n",
    "\n",
    "$$r=m-1,$$\n",
    "\n",
    "де m - кількість градацій ознаки (рядків в таблиці спряженості).\n",
    "\n",
    "* Визначити за таблицею критичне значення для відповідного рівня значимості $\\alpha$ та розрахованого числа ступенів свободи.\n",
    "\n",
    "* Якщо $\\chi_{emp}^2 > \\chi_{critical}^2$, то розбіжності між розподіленнями статистично значимі на даному рівні значимості.\n"
   ]
  },
  {
   "cell_type": "markdown",
   "metadata": {
    "colab_type": "text",
    "id": "IdynD2W28NS9"
   },
   "source": [
    "## Таблиця критичних значень"
   ]
  },
  {
   "cell_type": "markdown",
   "metadata": {
    "colab_type": "text",
    "id": "6jyV7r8d8RyR"
   },
   "source": [
    "Завантажити таблицю критичних значень можна за посиланням: \n",
    "\n",
    "https://drive.google.com/open?id=1-525zNUUxYAbY3FStFy79B9O3UMkcuan"
   ]
  },
  {
   "cell_type": "markdown",
   "metadata": {
    "colab_type": "text",
    "id": "iZobJ1GO8_TY"
   },
   "source": [
    "## Завдання"
   ]
  },
  {
   "cell_type": "markdown",
   "metadata": {
    "colab": {},
    "colab_type": "code",
    "id": "zyXdWWXf_Tm8"
   },
   "source": [
    "1. Обрати реальні дані з kaggle або сгенерувати випадкові дані, що містять розподіл деякої ознаки в двох групах."
   ]
  },
  {
   "cell_type": "code",
   "execution_count": 2,
   "metadata": {},
   "outputs": [
    {
     "data": {
      "text/html": [
       "<div>\n",
       "<style scoped>\n",
       "    .dataframe tbody tr th:only-of-type {\n",
       "        vertical-align: middle;\n",
       "    }\n",
       "\n",
       "    .dataframe tbody tr th {\n",
       "        vertical-align: top;\n",
       "    }\n",
       "\n",
       "    .dataframe thead th {\n",
       "        text-align: right;\n",
       "    }\n",
       "</style>\n",
       "<table border=\"1\" class=\"dataframe\">\n",
       "  <thead>\n",
       "    <tr style=\"text-align: right;\">\n",
       "      <th></th>\n",
       "      <th>total_bill</th>\n",
       "      <th>tip</th>\n",
       "      <th>sex</th>\n",
       "      <th>smoker</th>\n",
       "      <th>day</th>\n",
       "      <th>time</th>\n",
       "      <th>size</th>\n",
       "    </tr>\n",
       "  </thead>\n",
       "  <tbody>\n",
       "    <tr>\n",
       "      <th>0</th>\n",
       "      <td>16.99</td>\n",
       "      <td>1.01</td>\n",
       "      <td>Female</td>\n",
       "      <td>No</td>\n",
       "      <td>Sun</td>\n",
       "      <td>Dinner</td>\n",
       "      <td>2</td>\n",
       "    </tr>\n",
       "    <tr>\n",
       "      <th>1</th>\n",
       "      <td>10.34</td>\n",
       "      <td>1.66</td>\n",
       "      <td>Male</td>\n",
       "      <td>No</td>\n",
       "      <td>Sun</td>\n",
       "      <td>Dinner</td>\n",
       "      <td>3</td>\n",
       "    </tr>\n",
       "    <tr>\n",
       "      <th>2</th>\n",
       "      <td>21.01</td>\n",
       "      <td>3.50</td>\n",
       "      <td>Male</td>\n",
       "      <td>No</td>\n",
       "      <td>Sun</td>\n",
       "      <td>Dinner</td>\n",
       "      <td>3</td>\n",
       "    </tr>\n",
       "    <tr>\n",
       "      <th>3</th>\n",
       "      <td>23.68</td>\n",
       "      <td>3.31</td>\n",
       "      <td>Male</td>\n",
       "      <td>No</td>\n",
       "      <td>Sun</td>\n",
       "      <td>Dinner</td>\n",
       "      <td>2</td>\n",
       "    </tr>\n",
       "    <tr>\n",
       "      <th>4</th>\n",
       "      <td>24.59</td>\n",
       "      <td>3.61</td>\n",
       "      <td>Female</td>\n",
       "      <td>No</td>\n",
       "      <td>Sun</td>\n",
       "      <td>Dinner</td>\n",
       "      <td>4</td>\n",
       "    </tr>\n",
       "  </tbody>\n",
       "</table>\n",
       "</div>"
      ],
      "text/plain": [
       "   total_bill   tip     sex smoker  day    time  size\n",
       "0       16.99  1.01  Female     No  Sun  Dinner     2\n",
       "1       10.34  1.66    Male     No  Sun  Dinner     3\n",
       "2       21.01  3.50    Male     No  Sun  Dinner     3\n",
       "3       23.68  3.31    Male     No  Sun  Dinner     2\n",
       "4       24.59  3.61  Female     No  Sun  Dinner     4"
      ]
     },
     "execution_count": 2,
     "metadata": {},
     "output_type": "execute_result"
    }
   ],
   "source": [
    "import pandas as pd\n",
    "import seaborn as sns\n",
    "import matplotlib.pyplot as plt\n",
    "import numpy as np\n",
    "%matplotlib inline\n",
    "\n",
    "alldata = sns.load_dataset('tips')\n",
    "alldata.head()"
   ]
  },
  {
   "cell_type": "markdown",
   "metadata": {},
   "source": [
    "2. Побудувати графік, що відображає розподіл ознак в групах."
   ]
  },
  {
   "cell_type": "code",
   "execution_count": 3,
   "metadata": {},
   "outputs": [
    {
     "data": {
      "text/html": [
       "<div>\n",
       "<style scoped>\n",
       "    .dataframe tbody tr th:only-of-type {\n",
       "        vertical-align: middle;\n",
       "    }\n",
       "\n",
       "    .dataframe tbody tr th {\n",
       "        vertical-align: top;\n",
       "    }\n",
       "\n",
       "    .dataframe thead th {\n",
       "        text-align: right;\n",
       "    }\n",
       "</style>\n",
       "<table border=\"1\" class=\"dataframe\">\n",
       "  <thead>\n",
       "    <tr style=\"text-align: right;\">\n",
       "      <th></th>\n",
       "      <th>Male</th>\n",
       "      <th>Female</th>\n",
       "    </tr>\n",
       "  </thead>\n",
       "  <tbody>\n",
       "    <tr>\n",
       "      <th>No</th>\n",
       "      <td>97</td>\n",
       "      <td>54</td>\n",
       "    </tr>\n",
       "    <tr>\n",
       "      <th>Yes</th>\n",
       "      <td>60</td>\n",
       "      <td>33</td>\n",
       "    </tr>\n",
       "  </tbody>\n",
       "</table>\n",
       "</div>"
      ],
      "text/plain": [
       "     Male  Female\n",
       "No     97      54\n",
       "Yes    60      33"
      ]
     },
     "execution_count": 3,
     "metadata": {},
     "output_type": "execute_result"
    }
   ],
   "source": [
    "data = pd.DataFrame({\n",
    "    \"Male\": [0 for i in range(2)],\n",
    "    \"Female\": [0 for i in range(2)],\n",
    "}, index = [\"No\", \"Yes\"])\n",
    "\n",
    "for i in range (len(alldata)):\n",
    "    data[\"Male\" if (alldata[\"sex\"][i] == \"Male\") else \"Female\"][alldata[\"smoker\"][i]] += 1\n",
    "data"
   ]
  },
  {
   "cell_type": "code",
   "execution_count": 4,
   "metadata": {},
   "outputs": [
    {
     "data": {
      "text/plain": [
       "<matplotlib.legend.Legend at 0x124b2588>"
      ]
     },
     "execution_count": 4,
     "metadata": {},
     "output_type": "execute_result"
    },
    {
     "data": {
      "image/png": "[encoded data removed]",
      "text/plain": [
       "<Figure size 432x288 with 1 Axes>"
      ]
     },
     "metadata": {
      "needs_background": "light"
     },
     "output_type": "display_data"
    }
   ],
   "source": [
    "x = np.arange(len(data))\n",
    "width = 0.35\n",
    "y = [i for i in np.linspace(0,324,10)]\n",
    "labels = [\"No\", \"Yes\"]\n",
    "\n",
    "fig, ax = plt.subplots(figsize=(6,4))\n",
    "fig.height = 10\n",
    "rects1 = ax.bar(x - width/2, data[\"Male\"], width, label='Male')\n",
    "rects2 = ax.bar(x + width/2, data[\"Female\"], width, label='Female')\n",
    "\n",
    "ax.set_ylabel('Amount of people')\n",
    "ax.set_xlabel('Is the person a smoker')\n",
    "ax.set_title('Distribution in groups')\n",
    "ax.set_xticks(x)\n",
    "ax.set_xticklabels(labels)\n",
    "ax.set_yticks(y)\n",
    "\n",
    "ax.legend()"
   ]
  },
  {
   "cell_type": "markdown",
   "metadata": {},
   "source": [
    "3. Написати функції, що оцінює зв'язок між ознакою та групою за критерієм Пірсона. Функція має оцінювати розбіжність на двох рівнях - 0,001 та 0,05, в залежністі від параметру significant_level, що передається в неї. Врахувати у функції випадок, що сума частот ознаки у групах може бути відмінною."
   ]
  },
  {
   "cell_type": "code",
   "execution_count": 20,
   "metadata": {},
   "outputs": [],
   "source": [
    "def pirsoncrit(data, significant_level):\n",
    "    \n",
    "    t1 = []\n",
    "    for i in data.iloc[:,0]: #comma for column\n",
    "        b1 = True\n",
    "        for j in t1:\n",
    "            if(i == j):\n",
    "                b1 = False\n",
    "        if(b1):\n",
    "            t1.append(i)\n",
    "            \n",
    "    t2 = []\n",
    "    for i in data.iloc[:,1]:\n",
    "        b1 = True\n",
    "        for j in t2:\n",
    "            if(i == j):\n",
    "                b1 = False\n",
    "        if(b1):\n",
    "            t2.append(i)\n",
    "            \n",
    "    t1 = np.sort(t1)\n",
    "    t2 = np.sort(t2)\n",
    "    \n",
    "    pirson = pd.DataFrame({\n",
    "        (t2[0]):(0 for i in range(len(t1))),\n",
    "        (t2[1]):(0 for i in range(len(t1))),\n",
    "    }, index = t1)\n",
    "    for i in range(len(data)):\n",
    "        pirson[data.iloc[i,1]][data.iloc[i,0]] += 1\n",
    "        \n",
    "    print(\"Таблиця спряженості\")\n",
    "    print(pirson)\n",
    "    if (sum(pirson.iloc[:,0]) != sum(pirson.iloc[:,1])):\n",
    "        pirson[pirson.columns[1]] = [x/sum(pirson.iloc[:,1])*sum(pirson.iloc[:,0]) for x in pirson.iloc[:,1]]\n",
    "    pirson[\"ni - ni'\"] = [(pirson.iloc[i,0] - pirson.iloc[i,1]) for i in range(len(pirson))]\n",
    "    pirson[\"(ni - ni')^2/(ni')\"] = [pirson.iloc[i,2]**2/pirson.iloc[i,1] for i in range(len(pirson))]\n",
    "    \n",
    "    print()\n",
    "    print(\"Таблиця спряженості\")\n",
    "    print(pirson)\n",
    "    \n",
    "    ksi = sum(pirson.iloc[:,3])\n",
    "    print()\n",
    "    print(\"X^2 за даними: \" + str(ksi))\n",
    "    print(\"Ступені свободи: \" + str(len(pirson)-1))\n",
    "    \n",
    "    crit = pd.read_excel(\"Таблиця критичних значень для критерію Пірсона.xlsx\").iloc[len(pirson)-1, 1 if(significant_level == 0.01) else 2]\n",
    "    print(\"X^2 критичне: \" + str(crit))\n",
    "    return \"Розбіжність відсутня %.3f (дані)\"%ksi+\"< %.1f (критичне)\"%crit if (ksi < crit) else \"Розбіжність присутня %.3f (дані)\"%ksi+\"> %.1f (критичне)\"%crit"
   ]
  },
  {
   "cell_type": "markdown",
   "metadata": {},
   "source": [
    "4. Перевірити розбіжність на між групами на даних з п. 1. В результаті сформувати таблицю спряженості наступного вигляду:\n",
    "\n",
    "Ознака  | Група 1 | Група 2  | \n",
    "------------- | ------------- |--------- |\n",
    "Градація ознаки 1  | $n_{11}  $   | $n_{21}$   |\n",
    "Градація ознаки 2  | $n_{12}$   | $n_{22}$   |\n",
    "Градація ознаки 3  | $n_{13}$   | $n_{23}$   |"
   ]
  },
  {
   "cell_type": "code",
   "execution_count": 21,
   "metadata": {},
   "outputs": [
    {
     "name": "stdout",
     "output_type": "stream",
     "text": [
      "Таблиця спряженості\n",
      "        No  Yes\n",
      "Female  54   33\n",
      "Male    97   60\n",
      "\n",
      "Таблиця спряженості\n",
      "        No        Yes  ni - ni'  (ni - ni')^2/(ni')\n",
      "Female  54  53.580645  0.419355            0.003282\n",
      "Male    97  97.419355 -0.419355            0.001805\n",
      "\n",
      "X^2 за даними: 0.005087296809151058\n",
      "Ступені свободи: 1\n",
      "X^2 критичне: 6.6\n"
     ]
    },
    {
     "data": {
      "text/plain": [
       "'Розбіжність відсутня 0.005 (дані)< 6.6 (критичне)'"
      ]
     },
     "execution_count": 21,
     "metadata": {},
     "output_type": "execute_result"
    }
   ],
   "source": [
    "dataframe = pd.DataFrame({\n",
    "    \"sex\":alldata[\"sex\"],\n",
    "    \"smoker\":alldata[\"smoker\"],\n",
    "})\n",
    "\n",
    "pirsoncrit(dataframe, 0.01)"
   ]
  },
  {
   "cell_type": "markdown",
   "metadata": {},
   "source": [
    "5. Додати до таблиці стовбчики з відсотовим розподілом по градаціям всередині груп. Окремо вивести результати роботи критерію (чи є статистична розбіжність між групами)."
   ]
  },
  {
   "cell_type": "code",
   "execution_count": 10,
   "metadata": {},
   "outputs": [
    {
     "data": {
      "text/html": [
       "<div>\n",
       "<style scoped>\n",
       "    .dataframe tbody tr th:only-of-type {\n",
       "        vertical-align: middle;\n",
       "    }\n",
       "\n",
       "    .dataframe tbody tr th {\n",
       "        vertical-align: top;\n",
       "    }\n",
       "\n",
       "    .dataframe thead th {\n",
       "        text-align: right;\n",
       "    }\n",
       "</style>\n",
       "<table border=\"1\" class=\"dataframe\">\n",
       "  <thead>\n",
       "    <tr style=\"text-align: right;\">\n",
       "      <th></th>\n",
       "      <th>Male</th>\n",
       "      <th>Female</th>\n",
       "      <th>%Male</th>\n",
       "      <th>%Female</th>\n",
       "    </tr>\n",
       "  </thead>\n",
       "  <tbody>\n",
       "    <tr>\n",
       "      <th>No</th>\n",
       "      <td>97</td>\n",
       "      <td>54</td>\n",
       "      <td>61.8%</td>\n",
       "      <td>62.1%</td>\n",
       "    </tr>\n",
       "    <tr>\n",
       "      <th>Yes</th>\n",
       "      <td>60</td>\n",
       "      <td>33</td>\n",
       "      <td>38.2%</td>\n",
       "      <td>37.9%</td>\n",
       "    </tr>\n",
       "  </tbody>\n",
       "</table>\n",
       "</div>"
      ],
      "text/plain": [
       "     Male  Female  %Male %Female\n",
       "No     97      54  61.8%   62.1%\n",
       "Yes    60      33  38.2%   37.9%"
      ]
     },
     "execution_count": 10,
     "metadata": {},
     "output_type": "execute_result"
    }
   ],
   "source": [
    "data_table = pd.DataFrame({\n",
    "    \"Male\": [0 for i in range(2)],\n",
    "    \"Female\": [0 for i in range(2)],\n",
    "    \"%Male\": [0 for i in range(2)],\n",
    "    \"%Female\": [0 for i in range(2)],\n",
    "}, index = [\"No\", \"Yes\"])\n",
    "\n",
    "for i in range (len(alldata)):\n",
    "    data_table[\"Male\" if (alldata[\"sex\"][i] == \"Male\") else \"Female\"][alldata[\"smoker\"][i]] += 1\n",
    "    \n",
    "for i in range(0,len(data_table)):\n",
    "    data_table.iloc[i,2] = str(round(data_table[\"Male\"][i]/sum(data_table[\"Male\"])*100,1)) + \"%\"\n",
    "    data_table.iloc[i,3] = str(round(data_table[\"Female\"][i]/sum(data_table[\"Female\"])*100,1)) + \"%\"\n",
    "data_table"
   ]
  }
 ],
 "metadata": {
  "colab": {
   "authorship_tag": "ABX9TyMj+zsbRRXcFPRiMT239GjJ",
   "collapsed_sections": [],
   "name": "Task5.ipynb",
   "provenance": []
  },
  "kernelspec": {
   "display_name": "Python 3",
   "language": "python",
   "name": "python3"
  },
  "language_info": {
   "codemirror_mode": {
    "name": "ipython",
    "version": 3
   },
   "file_extension": ".py",
   "mimetype": "text/x-python",
   "name": "python",
   "nbconvert_exporter": "python",
   "pygments_lexer": "ipython3",
   "version": "3.7.3"
  }
 },
 "nbformat": 4,
 "nbformat_minor": 1
}
