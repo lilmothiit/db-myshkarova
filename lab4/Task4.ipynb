{
 "cells": [
  {
   "cell_type": "markdown",
   "metadata": {},
   "source": [
    "## Комп'ютерний практикум №4"
   ]
  },
  {
   "cell_type": "markdown",
   "metadata": {},
   "source": [
    "- з Обробки Біо-Медичних Даних\n",
    "- студентки ФБМІ, групи БС-81\n",
    "- Мишкарьової Ангеліни"
   ]
  },
  {
   "cell_type": "markdown",
   "metadata": {
    "colab_type": "text",
    "id": "2EyOSpkMJkLm"
   },
   "source": [
    "### **Перевірка даних на нормальність за допомогою критерію Шапіра-Уілка**"
   ]
  },
  {
   "cell_type": "code",
   "execution_count": 1,
   "metadata": {},
   "outputs": [],
   "source": [
    "import numpy as np\n",
    "import pandas as pd\n",
    "import matplotlib.backends.backend_pdf\n",
    "import matplotlib.pyplot as plt"
   ]
  },
  {
   "cell_type": "markdown",
   "metadata": {
    "colab_type": "text",
    "id": "5PcijeprNVJF"
   },
   "source": [
    " \n",
    "\n",
    "1.   Сгенеруйте набір даних, що містить не менше 6 змінних. Частину змінних згенеруйте за нормальний розподілом, частину - за будь-яким іншим розподілом. Кількість спостережень - 20.\n",
    "\n",
    "\n",
    "\n",
    "\n"
   ]
  },
  {
   "cell_type": "code",
   "execution_count": 2,
   "metadata": {},
   "outputs": [
    {
     "name": "stdout",
     "output_type": "stream",
     "text": [
      "[-2.074878998549424, -1.6771426089573438, -0.9339806341021629, -0.901805973794391, -0.6060150636358161, -0.4742462102736443, -0.45360364609158255, -0.29750021439292096, -0.25901632422005527, 0.00622303877489868, 0.029123846138314032, 0.1441909893453093, 0.14570945765093762, 0.20456810476005963, 0.4534458490394158, 0.6635457625737988, 0.7330319774172176, 0.7433312475702633, 0.9736633557949838, 2.6982892229374564]\n",
      "\n",
      "[-2.015883599587869, -0.7677456856576613, -0.6334151768838158, -0.5610367499643899, -0.5569648883480769, -0.4415746660334212, -0.35732795853857396, 0.1602791972130693, 0.28600718266374925, 0.3718187762063936, 0.3745853031739683, 0.5683945374094608, 0.5805640906518182, 0.6915751750587412, 0.7487630599106175, 0.9729871402332685, 1.0268788245326794, 1.1676311883073434, 1.201382357637744, 2.725204826523008]\n",
      "\n",
      "[-2.2832643013970833, -1.1833917953060529, -0.9886488947806821, -0.9352867495253003, -0.8659167316823324, -0.5491258070082057, -0.5321891105099317, -0.5026326727871504, -0.07822170516391248, -0.06095524278415108, 0.12133336112634548, 0.1517734914648249, 0.20621379051147884, 0.23878547071807102, 0.30780473379899453, 0.4634739969285093, 0.5907868761260178, 0.6081027422622869, 0.7370118036737132, 1.236749139574348]\n",
      "\n",
      "[-1.8956118908305937, -1.4929507822363128, -1.2026390994852292, -0.8909875677883663, -0.8289505366521738, -0.6090896232844255, -0.22571641212339105, -0.18593255040349294, -0.12186708692394332, -0.1071744677364717, -0.02588800930120396, 0.2295278773642785, 0.45262973177869603, 0.5038270690777423, 0.6569441704413223, 0.8264087687430263, 0.9621828772555985, 1.1704013027962725, 1.4279916232334684, 1.6313328461885814]\n",
      "\n",
      "[-1.4388792967348254, -1.3222836284431603, -1.141726676377936, 0.02054144387079057, 0.08416430703983444, 0.1539180304378464, 0.269472463696855, 0.334594724352974, 0.3795987260472742, 0.4792271774920669, 0.6418174766431322, 0.6676436120269363, 0.7033248473006876, 0.7146223287524183, 0.8112967808947961, 0.9922716339082223, 0.9930402210013868, 1.4596912194152922, 1.5219314957138252, 2.268020538702828]\n",
      "\n",
      "[0.00176989098490421, 0.005826585747324309, 0.020627333709077433, 0.032027641207325486, 0.045333605016679934, 0.048646679676220383, 0.05212021362616803, 0.05318822097947584, 0.09115606209497784, 0.10046133569889748, 0.13796717721061502, 0.14314632248779713, 0.16514019799970736, 0.17021470150476592, 0.17322261081794554, 0.25400220881501534, 0.3165393231297948, 0.5874062510886129, 0.5926167884766196, 0.9526527977572692]\n",
      "\n",
      "[0.010250976198915351, 0.016417186833513675, 0.020822024998895072, 0.03689668321700723, 0.044501919333117756, 0.07955241548297098, 0.0800166480809672, 0.15213178144161255, 0.15929808744497542, 0.16000319508993321, 0.17456503800738, 0.1772556300975645, 0.2465373023422044, 0.2724272092085378, 0.28629632657918047, 0.30471050332751104, 0.32412460836761436, 0.5084043264923417, 0.51550649771911, 0.6647239695232361]\n",
      "\n",
      "[0.006093675296120704, 0.015835561258236153, 0.0260043473391689, 0.03875992449117516, 0.05410006820002322, 0.06528817880090476, 0.07415961228875778, 0.07423944826378781, 0.09488082033700751, 0.1470830575078903, 0.14947393487066485, 0.15600209366769824, 0.19535247061989192, 0.23383409228843144, 0.24771259176058824, 0.3113983884178573, 0.34642547199150453, 0.46930099692364413, 0.5566112199909705, 0.9807127121748631]\n",
      "\n",
      "[0.005018861872155167, 0.008111076198393352, 0.019409286259898018, 0.020839962156500524, 0.023959601818232867, 0.025230764069577694, 0.030669954689694467, 0.03574157338326378, 0.03800349445696538, 0.04062240574412157, 0.06376147303066726, 0.1411062031091792, 0.1692296058614451, 0.17215153160439445, 0.18314323865899507, 0.22307950510904107, 0.2721585462093019, 0.33831850868521274, 0.5997826476424628, 0.6740419134897209]\n",
      "\n",
      "[0.025880349921886703, 0.0436104452001802, 0.04847166959550386, 0.058966431696735766, 0.06719437585779175, 0.07891557308871544, 0.0878821587763492, 0.09425395291683869, 0.11286424415820528, 0.12904978487935748, 0.16463384271918735, 0.18555883723172206, 0.20534727799720343, 0.26011917427885867, 0.36383477176592605, 0.37459070068267963, 0.5225463777005688, 0.6023493981441794, 0.6964482058081809, 0.7545717963532528]\n",
      "\n"
     ]
    }
   ],
   "source": [
    "myData = [];\n",
    "for i in range(10):\n",
    "    if (i < 5):\n",
    "        myData.append(sorted(np.random.normal(0, 1, size = 20)))\n",
    "    else:\n",
    "        myData.append(sorted(np.random.pareto(5, size = 20)))\n",
    "\n",
    "    print(str(myData[i])+'\\n')"
   ]
  },
  {
   "cell_type": "markdown",
   "metadata": {
    "colab_type": "text",
    "id": "TZ6nEDt-J6Sw"
   },
   "source": [
    "2.   Створіть функцію, що реалізує критерій Шапіро-Уілка та застосуйте її до кожної змінної набору данних.\n",
    "Детальний опис роботи критерію та приклад його розрахунку (с. 606):\n",
    "https://pdfs.semanticscholar.org/e4a7/42a4f0585b4e4069726f6628f4d4285a0827.pdf\n",
    "\n"
   ]
  },
  {
   "cell_type": "code",
   "execution_count": 3,
   "metadata": {},
   "outputs": [],
   "source": [
    "def shapiroWilk(data):\n",
    "    n = len(data)\n",
    "    \n",
    "    coefs = pd.read_excel(\"Coeficients for the W test for normality.xlsx\")[n]/10000\n",
    "    potdoW = pd.read_excel(\"Рoints of the distribution of W.xlsx\")[ 'Unnamed: 1'][n]/1000\n",
    "    \n",
    "    k = 0\n",
    "    if (n % 2 == 0):\n",
    "        k = int(n/2)\n",
    "    else:\n",
    "        k = int((n-1)/2)\n",
    "        \n",
    "    m = np.mean(data)\n",
    "    nm2 = 0\n",
    "    for i in data:\n",
    "        nm2 += (i - m)**2\n",
    "        \n",
    "    b = 0\n",
    "    for i in range (k):\n",
    "        b += coefs[i] * (data[n-i-1] - data[i])\n",
    "        \n",
    "    w = (b**2)/nm2\n",
    "    if (w >= potdoW):\n",
    "        return \"Normal\"\n",
    "    else:\n",
    "        return \"Not normal\""
   ]
  },
  {
   "cell_type": "markdown",
   "metadata": {
    "colab_type": "text",
    "id": "1db-l1XakhYS"
   },
   "source": [
    "3. Сгенеруйте пусту таблицю, в якій кількість рядків - це кількість змінних + 1. Кількість стовбчиків - 3. Назва стовпчиків - Variable, Statistics, Distribution.\n",
    "Шаблон таблиці:\n",
    "https://drive.google.com/file/d/1gRNsk9UDhl_6GGkJ04q0cBWBgsJvTgI4/view?usp=sharing"
   ]
  },
  {
   "cell_type": "markdown",
   "metadata": {
    "colab_type": "text",
    "id": "Gt4u5fI5mHw7"
   },
   "source": [
    "4. Занести в стовпчик Variable назви змінних."
   ]
  },
  {
   "cell_type": "markdown",
   "metadata": {
    "colab_type": "text",
    "id": "VDPx0OrJmKMq"
   },
   "source": [
    "5. Занести в стовпчик Distribution результати роботи криетрію Шапіро-Уілка. Для змінних, які розподілені за нормальним законом вносити \"normal\", в протилежному вигляді - \"non-normal\"."
   ]
  },
  {
   "cell_type": "markdown",
   "metadata": {
    "colab_type": "text",
    "id": "tNL5-LWjmgN_"
   },
   "source": [
    "6. Розрахувати для всіх змінних, що розподілені за нормальним законом розрахувати середне значення та стандартне відхилення. Записати в таблицю. Форма запису: Середнє [стандартне відхилення].\n",
    "\n"
   ]
  },
  {
   "cell_type": "markdown",
   "metadata": {
    "colab_type": "text",
    "id": "yNpJG4jLm6HR"
   },
   "source": [
    "7. Розрахувати для всіх змінних, що розподілені за розподілом відсутнім від нормального розрахувати медіану та інтерквартильний розмах. Записати в таблицю. Форма запису: Медіана [25%; 75%]."
   ]
  },
  {
   "cell_type": "code",
   "execution_count": 6,
   "metadata": {},
   "outputs": [
    {
     "data": {
      "text/html": [
       "<div>\n",
       "<style scoped>\n",
       "    .dataframe tbody tr th:only-of-type {\n",
       "        vertical-align: middle;\n",
       "    }\n",
       "\n",
       "    .dataframe tbody tr th {\n",
       "        vertical-align: top;\n",
       "    }\n",
       "\n",
       "    .dataframe thead th {\n",
       "        text-align: right;\n",
       "    }\n",
       "</style>\n",
       "<table border=\"1\" class=\"dataframe\">\n",
       "  <thead>\n",
       "    <tr style=\"text-align: right;\">\n",
       "      <th></th>\n",
       "      <th>Variable</th>\n",
       "      <th>Statistics</th>\n",
       "      <th>Distribution</th>\n",
       "    </tr>\n",
       "  </thead>\n",
       "  <tbody>\n",
       "    <tr>\n",
       "      <th>0</th>\n",
       "      <td>Normal</td>\n",
       "      <td>-0.044[0.994]</td>\n",
       "      <td>Normal</td>\n",
       "    </tr>\n",
       "    <tr>\n",
       "      <th>1</th>\n",
       "      <td>Normal</td>\n",
       "      <td>0.277[0.969]</td>\n",
       "      <td>Normal</td>\n",
       "    </tr>\n",
       "    <tr>\n",
       "      <th>2</th>\n",
       "      <td>Normal</td>\n",
       "      <td>-0.166[0.798]</td>\n",
       "      <td>Normal</td>\n",
       "    </tr>\n",
       "    <tr>\n",
       "      <th>3</th>\n",
       "      <td>Normal</td>\n",
       "      <td>0.014[0.945]</td>\n",
       "      <td>Normal</td>\n",
       "    </tr>\n",
       "    <tr>\n",
       "      <th>4</th>\n",
       "      <td>Normal</td>\n",
       "      <td>0.430[0.897]</td>\n",
       "      <td>Normal</td>\n",
       "    </tr>\n",
       "    <tr>\n",
       "      <th>5</th>\n",
       "      <td>Pareto</td>\n",
       "      <td>0.119[0.048 , 0.193]</td>\n",
       "      <td>Not normal</td>\n",
       "    </tr>\n",
       "    <tr>\n",
       "      <th>6</th>\n",
       "      <td>Pareto</td>\n",
       "      <td>0.167[0.071 , 0.291]</td>\n",
       "      <td>Not normal</td>\n",
       "    </tr>\n",
       "    <tr>\n",
       "      <th>7</th>\n",
       "      <td>Pareto</td>\n",
       "      <td>0.148[0.062 , 0.264]</td>\n",
       "      <td>Not normal</td>\n",
       "    </tr>\n",
       "    <tr>\n",
       "      <th>8</th>\n",
       "      <td>Pareto</td>\n",
       "      <td>0.052[0.025 , 0.193]</td>\n",
       "      <td>Not normal</td>\n",
       "    </tr>\n",
       "    <tr>\n",
       "      <th>9</th>\n",
       "      <td>Pareto</td>\n",
       "      <td>0.147[0.076 , 0.367]</td>\n",
       "      <td>Not normal</td>\n",
       "    </tr>\n",
       "  </tbody>\n",
       "</table>\n",
       "</div>"
      ],
      "text/plain": [
       "  Variable            Statistics Distribution\n",
       "0   Normal         -0.044[0.994]       Normal\n",
       "1   Normal          0.277[0.969]       Normal\n",
       "2   Normal         -0.166[0.798]       Normal\n",
       "3   Normal          0.014[0.945]       Normal\n",
       "4   Normal          0.430[0.897]       Normal\n",
       "5   Pareto  0.119[0.048 , 0.193]   Not normal\n",
       "6   Pareto  0.167[0.071 , 0.291]   Not normal\n",
       "7   Pareto  0.148[0.062 , 0.264]   Not normal\n",
       "8   Pareto  0.052[0.025 , 0.193]   Not normal\n",
       "9   Pareto  0.147[0.076 , 0.367]   Not normal"
      ]
     },
     "execution_count": 6,
     "metadata": {},
     "output_type": "execute_result"
    }
   ],
   "source": [
    "newtable = pd.DataFrame(\n",
    "{\n",
    "    \"Variable\": [\"Normal\" if (i < 5) else \"Pareto\" for i in range(10)],\n",
    "    \"Statistics\": [\"%.3f[%.3f]\" % (np.mean(myData[i]), np.std(myData[i])) if (shapiroWilk(myData[i]) == \"Normal\") else \n",
    "                   \"%.3f[%.3f , %.3f]\" % (np.median(myData[i]), np.quantile(myData[i], 0.25), np.quantile(myData[i], 0.75))\n",
    "                   for i in range(10)],\n",
    "    \"Distribution\": [shapiroWilk(myData[i]) for i in range(10)],\n",
    "})\n",
    "\n",
    "newtable"
   ]
  },
  {
   "cell_type": "markdown",
   "metadata": {
    "colab_type": "text",
    "id": "f5q92XD0nJ6N"
   },
   "source": [
    "8. Зберегти таблицю в пдф форматі"
   ]
  },
  {
   "cell_type": "code",
   "execution_count": 7,
   "metadata": {},
   "outputs": [
    {
     "data": {
      "image/png": "[encoded data removed]",
      "text/plain": [
       "<Figure size 432x288 with 1 Axes>"
      ]
     },
     "metadata": {
      "needs_background": "light"
     },
     "output_type": "display_data"
    }
   ],
   "source": [
    "fig = plt.figure()\n",
    "\n",
    "myplot = fig.add_subplot(111) #111 - 1x1 grid, first subplot\n",
    "\n",
    "cell_text = []\n",
    "for row in range(len(newtable)):\n",
    "    cell_text.append(newtable.iloc[row])\n",
    "\n",
    "myplot.table(cellText = cell_text, colLabels = newtable.columns, loc = 'center')\n",
    "myplot.axis('off')\n",
    "\n",
    "pdf = matplotlib.backends.backend_pdf.PdfPages(\"table.pdf\")\n",
    "pdf.savefig(fig)\n",
    "pdf.close()"
   ]
  }
 ],
 "metadata": {
  "colab": {
   "name": "Task4.ipynb",
   "provenance": []
  },
  "kernelspec": {
   "display_name": "Python 3",
   "language": "python",
   "name": "python3"
  },
  "language_info": {
   "codemirror_mode": {
    "name": "ipython",
    "version": 3
   },
   "file_extension": ".py",
   "mimetype": "text/x-python",
   "name": "python",
   "nbconvert_exporter": "python",
   "pygments_lexer": "ipython3",
   "version": "3.7.3"
  }
 },
 "nbformat": 4,
 "nbformat_minor": 1
}
